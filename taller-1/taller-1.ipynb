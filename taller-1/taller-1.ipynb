{
 "cells": [
  {
   "cell_type": "markdown",
   "id": "a4583a0d-ccb0-4276-a21f-507fcfdf6aad",
   "metadata": {},
   "source": [
    "***\n",
    "\n",
    "# Análisis de datos I\n",
    "\n",
    "***\n",
    "\n",
    "### Taller 1 - Comparte tu pregunta SMART\n",
    "\n",
    "#### 1. Definición del problema\n",
    "\n",
    "La entidad bancaria enfrenta un elevado nivel de abandono de clientes, lo cual impacta negativamente en la estabilidad financiera y el crecimiento sostenible. Actualmente, no cuenta con un sistema eficaz para identificar y entender los factores que contribuyen a la pérdida de clientes. \n",
    "\n",
    "El objetivo es reducir esta tasa de abandono en un 15% en los próximos 6 meses. Para lograrlo, se necesita un análisis exhaustivo de los perfiles de los clientes y los productos financieros que utilizan, con el fin de identificar patrones y factores de riesgo que contribuyen al abandono. Esta información permitirá diseñar y aplicar estrategias de retención personalizadas, basadas en el comportamiento y las necesidades específicas de los clientes, buscando mejorar así la fidelización y reducir significativamente la pérdida de clientes.\n",
    "\n",
    "#### 2. Definición de la pregunta SMART\n",
    "\n",
    "¿Cómo se puede reducir la tasa de abandono de clientes en un 15% en los próximos 6 meses mediante la identificación y análisis de los perfiles de los clientes y productos financieros que utilizan, implementando técnicas de análisis predictivo e inteligencia artificial para identificar los factores de riesgo y personalizar las estrategias de retención?"
   ]
  },
  {
   "cell_type": "code",
   "execution_count": null,
   "id": "86b16140-60fa-43d7-bed6-81208d226807",
   "metadata": {},
   "outputs": [],
   "source": []
  }
 ],
 "metadata": {
  "kernelspec": {
   "display_name": "Python 3 (ipykernel)",
   "language": "python",
   "name": "python3"
  },
  "language_info": {
   "codemirror_mode": {
    "name": "ipython",
    "version": 3
   },
   "file_extension": ".py",
   "mimetype": "text/x-python",
   "name": "python",
   "nbconvert_exporter": "python",
   "pygments_lexer": "ipython3",
   "version": "3.12.4"
  }
 },
 "nbformat": 4,
 "nbformat_minor": 5
}
