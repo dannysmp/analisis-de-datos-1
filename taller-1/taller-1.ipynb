{
 "cells": [
  {
   "cell_type": "markdown",
   "id": "a4583a0d-ccb0-4276-a21f-507fcfdf6aad",
   "metadata": {},
   "source": [
    "***\n",
    "\n",
    "# Análisis de datos I\n",
    "\n",
    "***\n",
    "\n",
    "### Taller 1 - Comparte tu pregunta SMART\n",
    "\n",
    "#### 1. Definición del problema\n",
    "\n",
    "La entidad bancaria enfrenta un desafío significativo con la alta tasa de abandono de clientes, lo cual afecta la estabilidad financiera y el crecimiento sostenible de la organización. En la actualidad, la entidad carece de un sistema eficaz para identificar y entender los factores que contribuyen a la pérdida de clientes.\n",
    "\n",
    "Para abordar este problema, se busca desarrollar un modelo predictivo basado en inteligencia artificial que utilice datos demográficos, financieros y de comportamiento de los clientes. Este modelo tiene como objetivo predecir la probabilidad de abandono mediante un análisis exhaustivo de la información disponible de los perfiles de los clientes y los productos financieros que utilizan, con el fin de identificar patrones y factores de riesgo relevantes. La información obtenida permitirá diseñar y aplicar estrategias de retención personalizadas, basadas en el comportamiento y las necesidades específicas de los clientes, con el objetivo de reducir significativamente la tasa de abandono y mejorar la fidelización. El éxito del modelo dependerá de su capacidad para analizar datos de manera efectiva y proporcionar información valiosa que facilite intervenciones específicas para los clientes en riesgo, mejorando así la satisfacción del cliente y la estabilidad financiera de la entidad.\n",
    "\n",
    "#### 2. Definición de la pregunta SMART\n",
    "\n",
    "¿Es posible predecir la probabilidad de que un cliente abandone una entidad bancaria a partir de un modelo predictivo basado en inteligencia artificial que analice los datos demográficos, financieros y de comportamiento disponibles de los clientes?"
   ]
  },
  {
   "cell_type": "code",
   "execution_count": null,
   "id": "86b16140-60fa-43d7-bed6-81208d226807",
   "metadata": {},
   "outputs": [],
   "source": []
  }
 ],
 "metadata": {
  "kernelspec": {
   "display_name": "Python 3 (ipykernel)",
   "language": "python",
   "name": "python3"
  },
  "language_info": {
   "codemirror_mode": {
    "name": "ipython",
    "version": 3
   },
   "file_extension": ".py",
   "mimetype": "text/x-python",
   "name": "python",
   "nbconvert_exporter": "python",
   "pygments_lexer": "ipython3",
   "version": "3.12.4"
  }
 },
 "nbformat": 4,
 "nbformat_minor": 5
}
