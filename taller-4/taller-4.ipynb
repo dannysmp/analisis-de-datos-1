{
 "cells": [
  {
   "cell_type": "markdown",
   "id": "cad36f2d-50d6-42ae-96ee-ac13692a2b04",
   "metadata": {},
   "source": [
    "***\n",
    "\n",
    "# Análisis de datos I\n",
    "\n",
    "***\n",
    "\n",
    "### Taller 4 - Comparte la preparación de los datos\n",
    "\n",
    "#### 1. Selección de las columnas para la preparación de los datos.\n",
    "\n",
    "Para llevar a cabo la preparación de los datos del dataset definido, se seleccionaron las siguientes columnas: \n",
    "\n",
    "1. **Pais (Geography)**: Permite identificar patrones regionales en la tasa de abandono de clientes, ya que las condiciones económicas y la competencia bancaria varían entre diferentes áreas o paises, lo que puede afectar la satisfacción del cliente.\n",
    "\n",
    "2. **Genero (Gender)**: Ayuda a entender las diferencias en los comportamientos y preferencias financieras entre hombres y mujeres, permitiendo al banco adaptar sus ofertas y estrategias de retención de manera más efectiva.\n",
    "\n",
    "Las columnas **Pais** y **Genero** proporcionan una visión más matizada de los factores que contribuyen al abandono, mejorando así la precisión de los modelos predictivos y la capacidad de la entidad bancaria para desarrollar estrategias dirigidas a reducir la pérdida de clientes.\n",
    "\n",
    "#### 2. Preparación de los datos\n",
    "\n",
    "A continuación se presenta la preparación de los datos para las columnas seleccionadas, implementado en Python."
   ]
  },
  {
   "cell_type": "code",
   "execution_count": 63,
   "id": "5a2f886a-b78c-4e02-bca3-c0d7389092c4",
   "metadata": {
    "scrolled": true
   },
   "outputs": [],
   "source": [
    "# Importar las bibliotecas de Python requeridas.\n",
    "import pandas as pd\n",
    "import seaborn as sns\n",
    "import matplotlib.pyplot as plt\n",
    "\n",
    "# Crear el Data Frame.\n",
    "df = pd.read_csv('customer_churn_records.csv')\n",
    "\n",
    "# Eliminar la columnas RowNumber y Surname del DataFrame.\n",
    "df = df.drop('RowNumber', axis = 1)\n",
    "df = df.drop('Surname', axis = 1)"
   ]
  },
  {
   "cell_type": "code",
   "execution_count": 77,
   "id": "460dcfd7-d53e-4279-9f24-2ed9309dbb5f",
   "metadata": {},
   "outputs": [
    {
     "data": {
      "text/plain": [
       "ClienteId              0\n",
       "PuntajeCredito         0\n",
       "Pais                   0\n",
       "Genero                 0\n",
       "Edad                   0\n",
       "TiempoPermanencia      0\n",
       "Saldo                  0\n",
       "CantidadProductos      0\n",
       "TieneTarjetaCredito    0\n",
       "EstaActivo             0\n",
       "SalarioEstimado        0\n",
       "ClienteAbandono        0\n",
       "HizoReclamo            0\n",
       "NivelSatisfaccion      0\n",
       "TipoTarjeta            0\n",
       "PuntosObtenidos        0\n",
       "dtype: int64"
      ]
     },
     "execution_count": 77,
     "metadata": {},
     "output_type": "execute_result"
    }
   ],
   "source": [
    "# Verificar si existen datos vacíos o faltantes en el DataFrame.\n",
    "df.isna().sum()"
   ]
  },
  {
   "cell_type": "markdown",
   "id": "2d2d79f6-7409-40ee-83a1-ce55ea6ee730",
   "metadata": {},
   "source": [
    "Se puede observar que no hay datos vacíos o faltantes en el dataset definido."
   ]
  },
  {
   "cell_type": "code",
   "execution_count": 64,
   "id": "6098962a-a71b-4de6-be98-a8fae643e368",
   "metadata": {},
   "outputs": [
    {
     "name": "stdout",
     "output_type": "stream",
     "text": [
      "Cantidad de datos duplicados: 0\n"
     ]
    }
   ],
   "source": [
    "# Verificar si existen datos duplicados en el DataFrame.\n",
    "print(f'Cantidad de datos duplicados: {df.duplicated().sum()}')"
   ]
  },
  {
   "cell_type": "markdown",
   "id": "940d0ccd-4795-42ff-b630-b28b02db3c2b",
   "metadata": {},
   "source": [
    "Se puede observar que no hay datos duplicados en el dataset definido."
   ]
  },
  {
   "cell_type": "code",
   "execution_count": 10,
   "id": "95a69d9d-f573-4724-b3b7-419aba31d010",
   "metadata": {},
   "outputs": [
    {
     "data": {
      "text/html": [
       "<div>\n",
       "<style scoped>\n",
       "    .dataframe tbody tr th:only-of-type {\n",
       "        vertical-align: middle;\n",
       "    }\n",
       "\n",
       "    .dataframe tbody tr th {\n",
       "        vertical-align: top;\n",
       "    }\n",
       "\n",
       "    .dataframe thead th {\n",
       "        text-align: right;\n",
       "    }\n",
       "</style>\n",
       "<table border=\"1\" class=\"dataframe\">\n",
       "  <thead>\n",
       "    <tr style=\"text-align: right;\">\n",
       "      <th></th>\n",
       "      <th>CustomerId</th>\n",
       "      <th>CreditScore</th>\n",
       "      <th>Geography</th>\n",
       "      <th>Gender</th>\n",
       "      <th>Age</th>\n",
       "      <th>Tenure</th>\n",
       "      <th>Balance</th>\n",
       "      <th>NumOfProducts</th>\n",
       "      <th>HasCrCard</th>\n",
       "      <th>IsActiveMember</th>\n",
       "      <th>EstimatedSalary</th>\n",
       "      <th>Exited</th>\n",
       "      <th>Complain</th>\n",
       "      <th>Satisfaction Score</th>\n",
       "      <th>Card Type</th>\n",
       "      <th>Point Earned</th>\n",
       "    </tr>\n",
       "  </thead>\n",
       "  <tbody>\n",
       "    <tr>\n",
       "      <th>0</th>\n",
       "      <td>15634602</td>\n",
       "      <td>619</td>\n",
       "      <td>France</td>\n",
       "      <td>Female</td>\n",
       "      <td>42</td>\n",
       "      <td>2</td>\n",
       "      <td>0.00</td>\n",
       "      <td>1</td>\n",
       "      <td>1</td>\n",
       "      <td>1</td>\n",
       "      <td>101348.88</td>\n",
       "      <td>1</td>\n",
       "      <td>1</td>\n",
       "      <td>2</td>\n",
       "      <td>DIAMOND</td>\n",
       "      <td>464</td>\n",
       "    </tr>\n",
       "    <tr>\n",
       "      <th>1</th>\n",
       "      <td>15647311</td>\n",
       "      <td>608</td>\n",
       "      <td>Spain</td>\n",
       "      <td>Female</td>\n",
       "      <td>41</td>\n",
       "      <td>1</td>\n",
       "      <td>83807.86</td>\n",
       "      <td>1</td>\n",
       "      <td>0</td>\n",
       "      <td>1</td>\n",
       "      <td>112542.58</td>\n",
       "      <td>0</td>\n",
       "      <td>1</td>\n",
       "      <td>3</td>\n",
       "      <td>DIAMOND</td>\n",
       "      <td>456</td>\n",
       "    </tr>\n",
       "    <tr>\n",
       "      <th>2</th>\n",
       "      <td>15619304</td>\n",
       "      <td>502</td>\n",
       "      <td>France</td>\n",
       "      <td>Female</td>\n",
       "      <td>42</td>\n",
       "      <td>8</td>\n",
       "      <td>159660.80</td>\n",
       "      <td>3</td>\n",
       "      <td>1</td>\n",
       "      <td>0</td>\n",
       "      <td>113931.57</td>\n",
       "      <td>1</td>\n",
       "      <td>1</td>\n",
       "      <td>3</td>\n",
       "      <td>DIAMOND</td>\n",
       "      <td>377</td>\n",
       "    </tr>\n",
       "    <tr>\n",
       "      <th>3</th>\n",
       "      <td>15701354</td>\n",
       "      <td>699</td>\n",
       "      <td>France</td>\n",
       "      <td>Female</td>\n",
       "      <td>39</td>\n",
       "      <td>1</td>\n",
       "      <td>0.00</td>\n",
       "      <td>2</td>\n",
       "      <td>0</td>\n",
       "      <td>0</td>\n",
       "      <td>93826.63</td>\n",
       "      <td>0</td>\n",
       "      <td>0</td>\n",
       "      <td>5</td>\n",
       "      <td>GOLD</td>\n",
       "      <td>350</td>\n",
       "    </tr>\n",
       "    <tr>\n",
       "      <th>4</th>\n",
       "      <td>15737888</td>\n",
       "      <td>850</td>\n",
       "      <td>Spain</td>\n",
       "      <td>Female</td>\n",
       "      <td>43</td>\n",
       "      <td>2</td>\n",
       "      <td>125510.82</td>\n",
       "      <td>1</td>\n",
       "      <td>1</td>\n",
       "      <td>1</td>\n",
       "      <td>79084.10</td>\n",
       "      <td>0</td>\n",
       "      <td>0</td>\n",
       "      <td>5</td>\n",
       "      <td>GOLD</td>\n",
       "      <td>425</td>\n",
       "    </tr>\n",
       "  </tbody>\n",
       "</table>\n",
       "</div>"
      ],
      "text/plain": [
       "   CustomerId  CreditScore Geography  Gender  Age  Tenure    Balance  \\\n",
       "0    15634602          619    France  Female   42       2       0.00   \n",
       "1    15647311          608     Spain  Female   41       1   83807.86   \n",
       "2    15619304          502    France  Female   42       8  159660.80   \n",
       "3    15701354          699    France  Female   39       1       0.00   \n",
       "4    15737888          850     Spain  Female   43       2  125510.82   \n",
       "\n",
       "   NumOfProducts  HasCrCard  IsActiveMember  EstimatedSalary  Exited  \\\n",
       "0              1          1               1        101348.88       1   \n",
       "1              1          0               1        112542.58       0   \n",
       "2              3          1               0        113931.57       1   \n",
       "3              2          0               0         93826.63       0   \n",
       "4              1          1               1         79084.10       0   \n",
       "\n",
       "   Complain  Satisfaction Score Card Type  Point Earned  \n",
       "0         1                   2   DIAMOND           464  \n",
       "1         1                   3   DIAMOND           456  \n",
       "2         1                   3   DIAMOND           377  \n",
       "3         0                   5      GOLD           350  \n",
       "4         0                   5      GOLD           425  "
      ]
     },
     "execution_count": 10,
     "metadata": {},
     "output_type": "execute_result"
    }
   ],
   "source": [
    "# Imprimir los primeros cinco registros del DataFrame.\n",
    "df.head()"
   ]
  },
  {
   "cell_type": "code",
   "execution_count": 65,
   "id": "e1deac5e-7ad6-4b6f-9b78-7f3ad59ce440",
   "metadata": {},
   "outputs": [
    {
     "data": {
      "text/html": [
       "<div>\n",
       "<style scoped>\n",
       "    .dataframe tbody tr th:only-of-type {\n",
       "        vertical-align: middle;\n",
       "    }\n",
       "\n",
       "    .dataframe tbody tr th {\n",
       "        vertical-align: top;\n",
       "    }\n",
       "\n",
       "    .dataframe thead th {\n",
       "        text-align: right;\n",
       "    }\n",
       "</style>\n",
       "<table border=\"1\" class=\"dataframe\">\n",
       "  <thead>\n",
       "    <tr style=\"text-align: right;\">\n",
       "      <th></th>\n",
       "      <th>CustomerId</th>\n",
       "      <th>CreditScore</th>\n",
       "      <th>Geography</th>\n",
       "      <th>Gender</th>\n",
       "      <th>Age</th>\n",
       "      <th>Tenure</th>\n",
       "      <th>Balance</th>\n",
       "      <th>NumOfProducts</th>\n",
       "      <th>HasCrCard</th>\n",
       "      <th>IsActiveMember</th>\n",
       "      <th>EstimatedSalary</th>\n",
       "      <th>Exited</th>\n",
       "      <th>Complain</th>\n",
       "      <th>Satisfaction Score</th>\n",
       "      <th>Card Type</th>\n",
       "      <th>Point Earned</th>\n",
       "    </tr>\n",
       "  </thead>\n",
       "  <tbody>\n",
       "    <tr>\n",
       "      <th>9995</th>\n",
       "      <td>15606229</td>\n",
       "      <td>771</td>\n",
       "      <td>France</td>\n",
       "      <td>Male</td>\n",
       "      <td>39</td>\n",
       "      <td>5</td>\n",
       "      <td>0.00</td>\n",
       "      <td>2</td>\n",
       "      <td>1</td>\n",
       "      <td>0</td>\n",
       "      <td>96270.64</td>\n",
       "      <td>0</td>\n",
       "      <td>0</td>\n",
       "      <td>1</td>\n",
       "      <td>DIAMOND</td>\n",
       "      <td>300</td>\n",
       "    </tr>\n",
       "    <tr>\n",
       "      <th>9996</th>\n",
       "      <td>15569892</td>\n",
       "      <td>516</td>\n",
       "      <td>France</td>\n",
       "      <td>Male</td>\n",
       "      <td>35</td>\n",
       "      <td>10</td>\n",
       "      <td>57369.61</td>\n",
       "      <td>1</td>\n",
       "      <td>1</td>\n",
       "      <td>1</td>\n",
       "      <td>101699.77</td>\n",
       "      <td>0</td>\n",
       "      <td>0</td>\n",
       "      <td>5</td>\n",
       "      <td>PLATINUM</td>\n",
       "      <td>771</td>\n",
       "    </tr>\n",
       "    <tr>\n",
       "      <th>9997</th>\n",
       "      <td>15584532</td>\n",
       "      <td>709</td>\n",
       "      <td>France</td>\n",
       "      <td>Female</td>\n",
       "      <td>36</td>\n",
       "      <td>7</td>\n",
       "      <td>0.00</td>\n",
       "      <td>1</td>\n",
       "      <td>0</td>\n",
       "      <td>1</td>\n",
       "      <td>42085.58</td>\n",
       "      <td>1</td>\n",
       "      <td>1</td>\n",
       "      <td>3</td>\n",
       "      <td>SILVER</td>\n",
       "      <td>564</td>\n",
       "    </tr>\n",
       "    <tr>\n",
       "      <th>9998</th>\n",
       "      <td>15682355</td>\n",
       "      <td>772</td>\n",
       "      <td>Germany</td>\n",
       "      <td>Male</td>\n",
       "      <td>42</td>\n",
       "      <td>3</td>\n",
       "      <td>75075.31</td>\n",
       "      <td>2</td>\n",
       "      <td>1</td>\n",
       "      <td>0</td>\n",
       "      <td>92888.52</td>\n",
       "      <td>1</td>\n",
       "      <td>1</td>\n",
       "      <td>2</td>\n",
       "      <td>GOLD</td>\n",
       "      <td>339</td>\n",
       "    </tr>\n",
       "    <tr>\n",
       "      <th>9999</th>\n",
       "      <td>15628319</td>\n",
       "      <td>792</td>\n",
       "      <td>France</td>\n",
       "      <td>Female</td>\n",
       "      <td>28</td>\n",
       "      <td>4</td>\n",
       "      <td>130142.79</td>\n",
       "      <td>1</td>\n",
       "      <td>1</td>\n",
       "      <td>0</td>\n",
       "      <td>38190.78</td>\n",
       "      <td>0</td>\n",
       "      <td>0</td>\n",
       "      <td>3</td>\n",
       "      <td>DIAMOND</td>\n",
       "      <td>911</td>\n",
       "    </tr>\n",
       "  </tbody>\n",
       "</table>\n",
       "</div>"
      ],
      "text/plain": [
       "      CustomerId  CreditScore Geography  Gender  Age  Tenure    Balance  \\\n",
       "9995    15606229          771    France    Male   39       5       0.00   \n",
       "9996    15569892          516    France    Male   35      10   57369.61   \n",
       "9997    15584532          709    France  Female   36       7       0.00   \n",
       "9998    15682355          772   Germany    Male   42       3   75075.31   \n",
       "9999    15628319          792    France  Female   28       4  130142.79   \n",
       "\n",
       "      NumOfProducts  HasCrCard  IsActiveMember  EstimatedSalary  Exited  \\\n",
       "9995              2          1               0         96270.64       0   \n",
       "9996              1          1               1        101699.77       0   \n",
       "9997              1          0               1         42085.58       1   \n",
       "9998              2          1               0         92888.52       1   \n",
       "9999              1          1               0         38190.78       0   \n",
       "\n",
       "      Complain  Satisfaction Score Card Type  Point Earned  \n",
       "9995         0                   1   DIAMOND           300  \n",
       "9996         0                   5  PLATINUM           771  \n",
       "9997         1                   3    SILVER           564  \n",
       "9998         1                   2      GOLD           339  \n",
       "9999         0                   3   DIAMOND           911  "
      ]
     },
     "execution_count": 65,
     "metadata": {},
     "output_type": "execute_result"
    }
   ],
   "source": [
    "# Imprimir los últimos cinco registros del DataFrame.\n",
    "df.tail()"
   ]
  },
  {
   "cell_type": "code",
   "execution_count": 66,
   "id": "ea400ea0-a570-4b3b-8ecf-733c1c611155",
   "metadata": {},
   "outputs": [
    {
     "data": {
      "text/html": [
       "<div>\n",
       "<style scoped>\n",
       "    .dataframe tbody tr th:only-of-type {\n",
       "        vertical-align: middle;\n",
       "    }\n",
       "\n",
       "    .dataframe tbody tr th {\n",
       "        vertical-align: top;\n",
       "    }\n",
       "\n",
       "    .dataframe thead th {\n",
       "        text-align: right;\n",
       "    }\n",
       "</style>\n",
       "<table border=\"1\" class=\"dataframe\">\n",
       "  <thead>\n",
       "    <tr style=\"text-align: right;\">\n",
       "      <th></th>\n",
       "      <th>ClienteId</th>\n",
       "      <th>PuntajeCredito</th>\n",
       "      <th>Pais</th>\n",
       "      <th>Genero</th>\n",
       "      <th>Edad</th>\n",
       "      <th>TiempoPermanencia</th>\n",
       "      <th>Saldo</th>\n",
       "      <th>CantidadProductos</th>\n",
       "      <th>TieneTarjetaCredito</th>\n",
       "      <th>EstaActivo</th>\n",
       "      <th>SalarioEstimado</th>\n",
       "      <th>ClienteAbandono</th>\n",
       "      <th>HizoReclamo</th>\n",
       "      <th>NivelSatisfaccion</th>\n",
       "      <th>TipoTarjeta</th>\n",
       "      <th>PuntosObtenidos</th>\n",
       "    </tr>\n",
       "  </thead>\n",
       "  <tbody>\n",
       "    <tr>\n",
       "      <th>0</th>\n",
       "      <td>15634602</td>\n",
       "      <td>619</td>\n",
       "      <td>France</td>\n",
       "      <td>Female</td>\n",
       "      <td>42</td>\n",
       "      <td>2</td>\n",
       "      <td>0.00</td>\n",
       "      <td>1</td>\n",
       "      <td>1</td>\n",
       "      <td>1</td>\n",
       "      <td>101348.88</td>\n",
       "      <td>1</td>\n",
       "      <td>1</td>\n",
       "      <td>2</td>\n",
       "      <td>DIAMOND</td>\n",
       "      <td>464</td>\n",
       "    </tr>\n",
       "    <tr>\n",
       "      <th>1</th>\n",
       "      <td>15647311</td>\n",
       "      <td>608</td>\n",
       "      <td>Spain</td>\n",
       "      <td>Female</td>\n",
       "      <td>41</td>\n",
       "      <td>1</td>\n",
       "      <td>83807.86</td>\n",
       "      <td>1</td>\n",
       "      <td>0</td>\n",
       "      <td>1</td>\n",
       "      <td>112542.58</td>\n",
       "      <td>0</td>\n",
       "      <td>1</td>\n",
       "      <td>3</td>\n",
       "      <td>DIAMOND</td>\n",
       "      <td>456</td>\n",
       "    </tr>\n",
       "    <tr>\n",
       "      <th>2</th>\n",
       "      <td>15619304</td>\n",
       "      <td>502</td>\n",
       "      <td>France</td>\n",
       "      <td>Female</td>\n",
       "      <td>42</td>\n",
       "      <td>8</td>\n",
       "      <td>159660.80</td>\n",
       "      <td>3</td>\n",
       "      <td>1</td>\n",
       "      <td>0</td>\n",
       "      <td>113931.57</td>\n",
       "      <td>1</td>\n",
       "      <td>1</td>\n",
       "      <td>3</td>\n",
       "      <td>DIAMOND</td>\n",
       "      <td>377</td>\n",
       "    </tr>\n",
       "    <tr>\n",
       "      <th>3</th>\n",
       "      <td>15701354</td>\n",
       "      <td>699</td>\n",
       "      <td>France</td>\n",
       "      <td>Female</td>\n",
       "      <td>39</td>\n",
       "      <td>1</td>\n",
       "      <td>0.00</td>\n",
       "      <td>2</td>\n",
       "      <td>0</td>\n",
       "      <td>0</td>\n",
       "      <td>93826.63</td>\n",
       "      <td>0</td>\n",
       "      <td>0</td>\n",
       "      <td>5</td>\n",
       "      <td>GOLD</td>\n",
       "      <td>350</td>\n",
       "    </tr>\n",
       "    <tr>\n",
       "      <th>4</th>\n",
       "      <td>15737888</td>\n",
       "      <td>850</td>\n",
       "      <td>Spain</td>\n",
       "      <td>Female</td>\n",
       "      <td>43</td>\n",
       "      <td>2</td>\n",
       "      <td>125510.82</td>\n",
       "      <td>1</td>\n",
       "      <td>1</td>\n",
       "      <td>1</td>\n",
       "      <td>79084.10</td>\n",
       "      <td>0</td>\n",
       "      <td>0</td>\n",
       "      <td>5</td>\n",
       "      <td>GOLD</td>\n",
       "      <td>425</td>\n",
       "    </tr>\n",
       "  </tbody>\n",
       "</table>\n",
       "</div>"
      ],
      "text/plain": [
       "   ClienteId  PuntajeCredito    Pais  Genero  Edad  TiempoPermanencia  \\\n",
       "0   15634602             619  France  Female    42                  2   \n",
       "1   15647311             608   Spain  Female    41                  1   \n",
       "2   15619304             502  France  Female    42                  8   \n",
       "3   15701354             699  France  Female    39                  1   \n",
       "4   15737888             850   Spain  Female    43                  2   \n",
       "\n",
       "       Saldo  CantidadProductos  TieneTarjetaCredito  EstaActivo  \\\n",
       "0       0.00                  1                    1           1   \n",
       "1   83807.86                  1                    0           1   \n",
       "2  159660.80                  3                    1           0   \n",
       "3       0.00                  2                    0           0   \n",
       "4  125510.82                  1                    1           1   \n",
       "\n",
       "   SalarioEstimado  ClienteAbandono  HizoReclamo  NivelSatisfaccion  \\\n",
       "0        101348.88                1            1                  2   \n",
       "1        112542.58                0            1                  3   \n",
       "2        113931.57                1            1                  3   \n",
       "3         93826.63                0            0                  5   \n",
       "4         79084.10                0            0                  5   \n",
       "\n",
       "  TipoTarjeta  PuntosObtenidos  \n",
       "0     DIAMOND              464  \n",
       "1     DIAMOND              456  \n",
       "2     DIAMOND              377  \n",
       "3        GOLD              350  \n",
       "4        GOLD              425  "
      ]
     },
     "execution_count": 66,
     "metadata": {},
     "output_type": "execute_result"
    }
   ],
   "source": [
    "# Definir los nombres de las columas del DataFrame.\n",
    "df.columns = ['ClienteId', 'PuntajeCredito', 'Pais', 'Genero', 'Edad', 'TiempoPermanencia', 'Saldo', 'CantidadProductos', 'TieneTarjetaCredito', 'EstaActivo', 'SalarioEstimado', 'ClienteAbandono', 'HizoReclamo', 'NivelSatisfaccion', 'TipoTarjeta', 'PuntosObtenidos']\n",
    "\n",
    "# Imprimir los primeros cinco registros del DataFrame con los nuevos nombres de las columnas.\n",
    "df.head()"
   ]
  },
  {
   "cell_type": "code",
   "execution_count": 74,
   "id": "f6c40d51-b618-4f7d-a128-243308fd015a",
   "metadata": {},
   "outputs": [
    {
     "name": "stdout",
     "output_type": "stream",
     "text": [
      "Cantidad de registros de la columna Pais según su categoría:\n"
     ]
    },
    {
     "data": {
      "text/plain": [
       "Pais\n",
       "France     5014\n",
       "Germany    2509\n",
       "Spain      2477\n",
       "Name: count, dtype: int64"
      ]
     },
     "execution_count": 74,
     "metadata": {},
     "output_type": "execute_result"
    }
   ],
   "source": [
    "# Obtener la cantidad de registros de la columna Pais.\n",
    "print('Cantidad de registros de la columna Pais según su categoría:')\n",
    "df['Pais'].value_counts()"
   ]
  },
  {
   "cell_type": "code",
   "execution_count": 75,
   "id": "1574bcbc-857b-494c-ac0a-a1af2d264bff",
   "metadata": {},
   "outputs": [
    {
     "name": "stdout",
     "output_type": "stream",
     "text": [
      "Cantidad de registros de la columna Genero según su categoría:\n"
     ]
    },
    {
     "data": {
      "text/plain": [
       "Genero\n",
       "Male      5457\n",
       "Female    4543\n",
       "Name: count, dtype: int64"
      ]
     },
     "execution_count": 75,
     "metadata": {},
     "output_type": "execute_result"
    }
   ],
   "source": [
    "# Obtener la cantidad de registros de la columna Genero.\n",
    "print('Cantidad de registros de la columna Genero según su categoría:')\n",
    "df['Genero'].value_counts()"
   ]
  },
  {
   "cell_type": "code",
   "execution_count": 76,
   "id": "8a9ba55b-53b5-4174-8c04-10ca76be4400",
   "metadata": {},
   "outputs": [
    {
     "data": {
      "image/png": "[encoded data removed]",
      "text/plain": [
       "<Figure size 1400x600 with 2 Axes>"
      ]
     },
     "metadata": {},
     "output_type": "display_data"
    }
   ],
   "source": [
    "# Gráfico de distribución las columnas Pais y Genero.\n",
    "plt.figure(figsize = (14, 6))\n",
    "\n",
    "plt.subplot(1, 2, 1)\n",
    "palette = sns.color_palette('husl', len(df['Pais'].unique()))\n",
    "ax = sns.countplot(data = df, x = 'Pais', hue = 'Pais', palette = palette)\n",
    "\n",
    "plt.xlabel('País')\n",
    "plt.ylabel('Número de clientes')\n",
    "plt.title('Distribución de clientes por país')\n",
    "plt.legend(labels = df['Pais'].unique(), title = 'País', loc = 'upper right')\n",
    "\n",
    "plt.subplot(1, 2, 2)\n",
    "palette = sns.color_palette('husl', len(df['Genero'].unique()))\n",
    "ax = sns.countplot(data = df, x = 'Genero', hue = 'Genero', palette = palette)\n",
    "\n",
    "plt.xlabel('Genero')\n",
    "plt.ylabel('Número de clientes')\n",
    "plt.title('Distribución de clientes por genero')\n",
    "plt.legend(labels = df['Genero'].unique(), title = 'Genero', loc = 'upper left')\n",
    "\n",
    "plt.tight_layout()\n",
    "plt.show()"
   ]
  },
  {
   "cell_type": "markdown",
   "id": "1b09bfb3-0d92-49b5-b8f7-e1876734ef37",
   "metadata": {},
   "source": [
    "Los diagramas de distribución de clientes por **Pais** y **Genero** muestran una distribución notablemente desigual en ambas categorías. Respecto a los países, France domina con más de la mitad de los registros, seguida por Germany y Spain, que tienen proporciones casi idénticas pero con una ligera ventaja para Germany.  En cuanto al género, hay una ligera inclinación hacia Male, que representa aproximadamente el 54.6% de los registros frente al 45.4% de Female. \n",
    "\n",
    "Estas distribuciones indican una fuerte representación de France y un leve predominio del género masculino en los datos, lo cual puede ser relevante para personalizar las estrategias de retención, permitiendo ajustes específicos para abordar las necesidades y comportamientos de cada grupo demográfico y reducir así el riesgo de abandono de clientes.\n",
    "\n",
    "A continuación se realiza el proceso de label encoding para las columnas **Pais** y **Genero**."
   ]
  },
  {
   "cell_type": "code",
   "execution_count": 48,
   "id": "05fa243b-26fd-4124-bda1-2e4b6d673842",
   "metadata": {},
   "outputs": [],
   "source": [
    "# Aplicar el proceso de label encoding para convertir las columnas Pais y Genero de categóricas a numéricas.\n",
    "\n",
    "from sklearn.preprocessing import LabelEncoder\n",
    "import pandas as pd\n",
    "\n",
    "# Crear una instancia de label encoder.\n",
    "label = LabelEncoder()"
   ]
  },
  {
   "cell_type": "code",
   "execution_count": 42,
   "id": "c9d4a29a-4c4d-4fe9-a443-14e4d848931d",
   "metadata": {},
   "outputs": [
    {
     "name": "stdout",
     "output_type": "stream",
     "text": [
      "Cantidad de registros de la columna Pais después de aplicar el proceso de label encoding:\n"
     ]
    },
    {
     "data": {
      "text/plain": [
       "Pais\n",
       "0    5014\n",
       "1    2509\n",
       "2    2477\n",
       "Name: count, dtype: int64"
      ]
     },
     "execution_count": 42,
     "metadata": {},
     "output_type": "execute_result"
    }
   ],
   "source": [
    "df['Pais'] = label.fit_transform(df['Pais'])\n",
    "\n",
    "# Obtener la cantidad de registros de Pais con los valores actualizados después de aplicar label encoding.\n",
    "print('Cantidad de registros de la columna Pais después de aplicar el proceso de label encoding:')\n",
    "df['Pais'].value_counts()"
   ]
  },
  {
   "cell_type": "markdown",
   "id": "978b187d-a556-42de-8783-ab2e691693af",
   "metadata": {},
   "source": [
    "- France se convirtió en 0\n",
    "- Germany se convirtió en 1\n",
    "- Spain se convirtió en 2"
   ]
  },
  {
   "cell_type": "code",
   "execution_count": 44,
   "id": "6f5407ee-3af2-49d3-8a63-f962cdfe8059",
   "metadata": {},
   "outputs": [
    {
     "name": "stdout",
     "output_type": "stream",
     "text": [
      "Cantidad de registros de la columna Genero después de aplicar el proceso de label encoding:\n"
     ]
    },
    {
     "data": {
      "text/plain": [
       "Genero\n",
       "1    5457\n",
       "0    4543\n",
       "Name: count, dtype: int64"
      ]
     },
     "execution_count": 44,
     "metadata": {},
     "output_type": "execute_result"
    }
   ],
   "source": [
    "df['Genero'] = label.fit_transform(df['Genero'])\n",
    "\n",
    "# Obtener la cantidad de registros de Genero con los valores actualizados después de aplicar label encoding.\n",
    "print('Cantidad de registros de la columna Genero después de aplicar el proceso de label encoding:')\n",
    "df['Genero'].value_counts()"
   ]
  },
  {
   "cell_type": "markdown",
   "id": "37a5912b-4fc1-48be-8aab-124199371381",
   "metadata": {},
   "source": [
    "- Male se convirtió en 0\n",
    "- Female se convirtió en 1\n",
    "\n",
    "Adicional a las columnas seleccionadas inicialmente, se realiza el proceso de label encoding para la columna **TipoTarjeta**, la cual indica el tipo de tarjeta que posee el cliente."
   ]
  },
  {
   "cell_type": "code",
   "execution_count": 45,
   "id": "3647df07-cf60-487c-910b-e9bac2722796",
   "metadata": {},
   "outputs": [
    {
     "name": "stdout",
     "output_type": "stream",
     "text": [
      "Cantidad de registros de la columna TipoTarjeta según su categoría:\n"
     ]
    },
    {
     "data": {
      "text/plain": [
       "TipoTarjeta\n",
       "DIAMOND     2507\n",
       "GOLD        2502\n",
       "SILVER      2496\n",
       "PLATINUM    2495\n",
       "Name: count, dtype: int64"
      ]
     },
     "execution_count": 45,
     "metadata": {},
     "output_type": "execute_result"
    }
   ],
   "source": [
    "# Obtener la cantidad de registros de la columna TipoTarjeta.\n",
    "print('Cantidad de registros de la columna TipoTarjeta según su categoría:')\n",
    "df['TipoTarjeta'].value_counts()"
   ]
  },
  {
   "cell_type": "code",
   "execution_count": 46,
   "id": "3c627666-e221-4a5e-96a6-b8630a54e964",
   "metadata": {},
   "outputs": [
    {
     "name": "stdout",
     "output_type": "stream",
     "text": [
      "Cantidad de registros de la columna TipoTarjeta después de aplicar el proceso de label encoding:\n"
     ]
    },
    {
     "data": {
      "text/plain": [
       "TipoTarjeta\n",
       "0    2507\n",
       "1    2502\n",
       "3    2496\n",
       "2    2495\n",
       "Name: count, dtype: int64"
      ]
     },
     "execution_count": 46,
     "metadata": {},
     "output_type": "execute_result"
    }
   ],
   "source": [
    "df['TipoTarjeta'] = label.fit_transform(df['TipoTarjeta'])\n",
    "\n",
    "# Obtener la cantidad de registros de TipoTarjeta con los valores actualizados después de aplicar label encoding.\n",
    "print('Cantidad de registros de la columna TipoTarjeta después de aplicar el proceso de label encoding:')\n",
    "df['TipoTarjeta'].value_counts()"
   ]
  },
  {
   "cell_type": "markdown",
   "id": "97768188-6a56-49f8-949e-e4eb7c6a882b",
   "metadata": {},
   "source": [
    "- DIAMOND se convirtió en 0\n",
    "- GOLD se convirtió en 1\n",
    "- SILVER se convirtió en 2\n",
    "- PLATINUM se convirtió en 3"
   ]
  },
  {
   "cell_type": "markdown",
   "id": "656c45c0-d02f-4f49-8cfd-fa1d2465f15b",
   "metadata": {},
   "source": [
    "Para evaluar el impacto de las variables **Pais** y **Genero** en la probabilidad de que un cliente abandone la entidad bancaria, se analizará su correlación con la variable **ClienteAbandono** que corresponde a la variable objetivo del modelo. "
   ]
  },
  {
   "cell_type": "code",
   "execution_count": 56,
   "id": "7f983281-6e56-43d8-b07d-ad2284cfb7df",
   "metadata": {},
   "outputs": [
    {
     "data": {
      "image/png": "[encoded data removed]",
      "text/plain": [
       "<Figure size 1400x600 with 6 Axes>"
      ]
     },
     "metadata": {},
     "output_type": "display_data"
    },
    {
     "name": "stdout",
     "output_type": "stream",
     "text": [
      "Correlación entre Pais y ClienteAbandono\n",
      "Método de Pearson: 0.03571249985775273\n",
      "Método de Spearman: 0.052848864411950455\n",
      "Método de Kendall: 0.05014161988378433\n"
     ]
    }
   ],
   "source": [
    "# Cálculo de la correlación entre Pais y ClienteAbandono utilizando los métodos de Pearson, Spearman y Kendall.\n",
    "corr_pearson = df[['Pais','ClienteAbandono']].corr(method = 'pearson').iloc[0, 1]\n",
    "corr_spearman = df[['Pais','ClienteAbandono']].corr(method = 'spearman').iloc[0, 1]\n",
    "corr_kendall = df[['Pais','ClienteAbandono']].corr(method = 'kendall').iloc[0, 1]\n",
    "\n",
    "# Gráfico del mapa de calor de la matriz de correlación entre Pais y ClienteAbandono utilizando los métodos de Pearson, Spearman y Kendall.\n",
    "plt.figure(figsize = (14, 6))\n",
    "plt.suptitle('Diagrama de correlación entre Pais y ClienteAbandono', fontsize = 16)\n",
    "\n",
    "plt.subplot(1, 3, 1)\n",
    "sns.heatmap(df[['Pais', 'ClienteAbandono']].corr(method = 'pearson'), annot = True, cmap = 'coolwarm', fmt = '.5f')\n",
    "plt.title('Mapa de calor - Método de Pearson')\n",
    "\n",
    "plt.subplot(1, 3, 2)\n",
    "sns.heatmap(df[['Pais', 'ClienteAbandono']].corr(method = 'spearman'), annot = True, cmap = 'coolwarm', fmt = '.5f')\n",
    "plt.title('Mapa de calor - Método de Spearman')\n",
    "\n",
    "plt.subplot(1, 3, 3)\n",
    "sns.heatmap(df[['Pais', 'ClienteAbandono']].corr(method = 'kendall'), annot = True, cmap = 'coolwarm', fmt = '.5f')\n",
    "plt.title('Mapa de calor - Método de Kendall')\n",
    "\n",
    "plt.tight_layout()\n",
    "plt.show()\n",
    "\n",
    "print(f'Correlación entre Pais y ClienteAbandono')\n",
    "print(f'Método de Pearson: {corr_pearson}')\n",
    "print(f'Método de Spearman: {corr_spearman}')\n",
    "print(f'Método de Kendall: {corr_kendall}')"
   ]
  },
  {
   "cell_type": "code",
   "execution_count": 61,
   "id": "d9bb7e4d-39aa-41ee-9033-6c65b1339cf2",
   "metadata": {},
   "outputs": [
    {
     "data": {
      "image/png": "[encoded data removed]",
      "text/plain": [
       "<Figure size 1400x600 with 6 Axes>"
      ]
     },
     "metadata": {},
     "output_type": "display_data"
    },
    {
     "name": "stdout",
     "output_type": "stream",
     "text": [
      "Correlación entre Genero y ClienteAbandono\n",
      "Método de Pearson: -0.10626653301252881\n",
      "Método de Spearman: -0.10626653301252877\n",
      "Método de Kendall: -0.1062665330125288\n"
     ]
    }
   ],
   "source": [
    "# Cálculo de la correlación entre Genero y ClienteAbandono utilizando los métodos de Pearson, Spearman y Kendall.\n",
    "corr_pearson = df[['Genero','ClienteAbandono']].corr(method = 'pearson').iloc[0, 1]\n",
    "corr_spearman = df[['Genero','ClienteAbandono']].corr(method = 'spearman').iloc[0, 1]\n",
    "corr_kendall = df[['Genero','ClienteAbandono']].corr(method = 'kendall').iloc[0, 1]\n",
    "\n",
    "# Gráfico del mapa de calor de la matriz de correlación entre Genero y ClienteAbandono utilizando los métodos de Pearson, Spearman y Kendall.\n",
    "plt.figure(figsize = (14, 6))\n",
    "plt.suptitle('Diagrama de correlación entre Genero y ClienteAbandono', fontsize = 16)\n",
    "\n",
    "plt.subplot(1, 3, 1)\n",
    "sns.heatmap(df[['Genero', 'ClienteAbandono']].corr(method = 'pearson'), annot = True, cmap = 'coolwarm', fmt = '.5f')\n",
    "plt.title('Mapa de calor - Método de Pearson')\n",
    "\n",
    "plt.subplot(1, 3, 2)\n",
    "sns.heatmap(df[['Genero', 'ClienteAbandono']].corr(method = 'spearman'), annot = True, cmap = 'coolwarm', fmt = '.5f')\n",
    "plt.title('Mapa de calor - Método de Spearman')\n",
    "\n",
    "plt.subplot(1, 3, 3)\n",
    "sns.heatmap(df[['Genero', 'ClienteAbandono']].corr(method = 'kendall'), annot = True, cmap = 'coolwarm', fmt = '.5f')\n",
    "plt.title('Mapa de calor - Método de Kendall')\n",
    "\n",
    "plt.tight_layout()\n",
    "plt.show()\n",
    "\n",
    "print(f'Correlación entre Genero y ClienteAbandono')\n",
    "print(f'Método de Pearson: {corr_pearson}')\n",
    "print(f'Método de Spearman: {corr_spearman}')\n",
    "print(f'Método de Kendall: {corr_kendall}')"
   ]
  },
  {
   "attachments": {},
   "cell_type": "markdown",
   "id": "bf0ba159-ac4e-4a03-9d35-1566ffdeb52a",
   "metadata": {},
   "source": [
    "El análisis de la correlación entre las columnas **Pais** y **Genero** con respecto a la variable objetivo **ClienteAbandono**, muestra diferencias significativas en la relación entre estas variables y la probabilidad de abandono de los clientes de la entidad bancaria.\n",
    "\n",
    "Para la variable **Pais**, los coeficientes de correlación obtenidos con los diferentes métodos evaluados (Pearson, Spearman y Kendall) son muy bajos indicando una correlación débil, lo que sugiere que este no sería un buen predictor de la probabilidad de abandono en el contexto analizado. Por otro lado, la variable **Genero** muestra una correlación negativa constante y más pronunciada con **ClienteAbandono**, lo que indica una ligera tendencia hacia una menor probabilidad de abandono en uno de los géneros. Aunque esta correlación es débil, su consistencia sugiere que **Genero** podría ser un predictor relevante cuando se considera en combinación con otras variables.\n",
    "\n",
    "En resumen, mientras que el **Pais** no parece influir en el abandono de clientes, el **Genero** muestra una correlación débil pero consistente con una ligera tendencia hacia la reducción en la probabilidad de abandono. Ambos indicadores muestran una influencia limitada por sí solos, pero su inclusión en el modelo puede aportar valor al ofrecer un perfil más completo y segmentado del cliente, especialmente al analizar interacciones con otras variables y ajustar las estrategias de retención.\n",
    "\n",
    "#### 3. Conclusiones\n",
    "\n",
    "1. Convertir **Pais** y **Genero** a datos numéricos mediante label encoding es crucial para su correcto procesamiento por modelos predictivos.\n",
    "2.  La desigual distribución de clientes según **Pais** y **Genero** requiere estrategias de retención específicas y adecuada preparación de datos para un análisis exhaustivo.\n",
    "3.  La baja correlación entre **Pais** y **ClienteAbandono** no lo convierte en un buen predictor por sí solo. Su preparación permite explorar interacciones con otras variables.\n",
    "4.  La débil correlación negativa entre **Genero** y **ClienteAbandono** sugiere una ligera tendencia hacia menor abandono. La preparación de datos mejora su uso en modelos predictivos combinados con otras variables."
   ]
  },
  {
   "cell_type": "code",
   "execution_count": null,
   "id": "65a670a6-935f-4786-abc2-bcc7e0e4d980",
   "metadata": {},
   "outputs": [],
   "source": []
  }
 ],
 "metadata": {
  "kernelspec": {
   "display_name": "Python 3 (ipykernel)",
   "language": "python",
   "name": "python3"
  },
  "language_info": {
   "codemirror_mode": {
    "name": "ipython",
    "version": 3
   },
   "file_extension": ".py",
   "mimetype": "text/x-python",
   "name": "python",
   "nbconvert_exporter": "python",
   "pygments_lexer": "ipython3",
   "version": "3.12.4"
  }
 },
 "nbformat": 4,
 "nbformat_minor": 5
}
